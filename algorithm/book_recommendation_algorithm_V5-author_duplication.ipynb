{
 "cells": [
  {
   "cell_type": "code",
   "execution_count": 4,
   "metadata": {
    "pycharm": {
     "name": "#%%\n"
    }
   },
   "outputs": [
    {
     "ename": "ModuleNotFoundError",
     "evalue": "No module named 'pandas'",
     "output_type": "error",
     "traceback": [
      "\u001b[1;31m---------------------------------------------------------------------------\u001b[0m",
      "\u001b[1;31mModuleNotFoundError\u001b[0m                       Traceback (most recent call last)",
      "Cell \u001b[1;32mIn[4], line 1\u001b[0m\n\u001b[1;32m----> 1\u001b[0m \u001b[38;5;28;01mimport\u001b[39;00m \u001b[38;5;21;01mpandas\u001b[39;00m \u001b[38;5;28;01mas\u001b[39;00m \u001b[38;5;21;01mpd\u001b[39;00m\n\u001b[0;32m      2\u001b[0m \u001b[38;5;28;01mfrom\u001b[39;00m \u001b[38;5;21;01msklearn\u001b[39;00m\u001b[38;5;21;01m.\u001b[39;00m\u001b[38;5;21;01mmetrics\u001b[39;00m\u001b[38;5;21;01m.\u001b[39;00m\u001b[38;5;21;01mpairwise\u001b[39;00m \u001b[38;5;28;01mimport\u001b[39;00m cosine_similarity\n\u001b[0;32m      3\u001b[0m \u001b[38;5;28;01mfrom\u001b[39;00m \u001b[38;5;21;01msklearn\u001b[39;00m\u001b[38;5;21;01m.\u001b[39;00m\u001b[38;5;21;01mfeature_extraction\u001b[39;00m\u001b[38;5;21;01m.\u001b[39;00m\u001b[38;5;21;01mtext\u001b[39;00m \u001b[38;5;28;01mimport\u001b[39;00m TfidfVectorizer\n",
      "\u001b[1;31mModuleNotFoundError\u001b[0m: No module named 'pandas'"
     ]
    }
   ],
   "source": [
    "\n",
    "import pandas as pd\n",
    "from sklearn.metrics.pairwise import cosine_similarity\n",
    "from sklearn.feature_extraction.text import TfidfVectorizer\n",
    "\n",
    "# CSV 파일 불러오기\n",
    "df = pd.read_csv(\"popular_books_ISBN3.csv\")\n",
    "\n",
    "# 작가 이름이 완전히 같은지 체크\n",
    "df['same_author'] = df.duplicated(subset='authors', keep=False)\n",
    "\n",
    "# 작가 이름이 완전히 같지 않으면 제목과 출판사, 장르만 고려하기\n",
    "df['content'] = df[['bookname', 'publisher']].apply(lambda x: ' '.join(x), axis=1)\n",
    "df.loc[df['same_author'], 'content'] = df.loc[df['same_author'], 'content'] + ' ' + df.loc[df['same_author'], 'authors']\n",
    "\n",
    "\n",
    "# TfidfVectorizer 생성\n",
    "vectorizer = TfidfVectorizer(stop_words='english')\n",
    "\n",
    "# 모든 요소에 대해 Tf-idf vectorization 적용\n",
    "content_matrix = vectorizer.fit_transform(df['content'])\n",
    "\n",
    "# 코사인 유사도 구하기\n",
    "cosine_sim = cosine_similarity(content_matrix)\n",
    "\n",
    "\n",
    "def recommend_books(favorites, n, cosine_sim=cosine_sim):\n",
    "\n",
    "    # favorites 책들을 담을 빈 배열 indices 생성\n",
    "    indices = []\n",
    "\n",
    "    # favorites 책에서\n",
    "    for isbn in favorites:\n",
    "        # isbn 값과 일치하는 인덱스 가져오기\n",
    "        idx = df[df['isbn13'] == isbn].index[0]\n",
    "        # indices에 그 책 추가\n",
    "        indices.append(idx)\n",
    "\n",
    "    # favorites 책으로 책의 유사도 점수 목록 만들기\n",
    "    sim_scores = [list(enumerate(cosine_sim[i])) for i in indices]\n",
    "    sim_scores = [item for sublist in sim_scores for item in sublist]\n",
    "\n",
    "    # 유사도 점수가 높은 수능로 정렬하기\n",
    "    sim_scores = sorted(sim_scores, key=lambda x: x[1], reverse=True)\n",
    "\n",
    "    # 유사도 높은 순에서 가장 유사도 높은 len(favorites) 제거하고 n개 가져오기\n",
    "    top_n = [i[0] for i in sim_scores[len(favorites) : n + len(favorites)]]\n",
    "\n",
    "    # 가장 유사도 높은 n개의 책 가져오기\n",
    "    return df.iloc[top_n]\n",
    "\n",
    "\n",
    "# 함수 호출\n",
    "print(recommend_books([9788954622035], 50))"
   ]
  },
  {
   "cell_type": "code",
   "execution_count": null,
   "metadata": {},
   "outputs": [],
   "source": []
  }
 ],
 "metadata": {
  "kernelspec": {
   "display_name": "Python 3 (ipykernel)",
   "language": "python",
   "name": "python3"
  },
  "language_info": {
   "codemirror_mode": {
    "name": "ipython",
    "version": 3
   },
   "file_extension": ".py",
   "mimetype": "text/x-python",
   "name": "python",
   "nbconvert_exporter": "python",
   "pygments_lexer": "ipython3",
   "version": "3.11.1"
  }
 },
 "nbformat": 4,
 "nbformat_minor": 1
}
